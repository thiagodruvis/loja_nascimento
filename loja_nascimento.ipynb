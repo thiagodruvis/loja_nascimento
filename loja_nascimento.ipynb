{
  "nbformat": 4,
  "nbformat_minor": 0,
  "metadata": {
    "colab": {
      "provenance": [],
      "toc_visible": true,
      "authorship_tag": "ABX9TyNxzcaornXo/VPeHqR9M9kL",
      "include_colab_link": true
    },
    "kernelspec": {
      "name": "python3",
      "display_name": "Python 3"
    },
    "language_info": {
      "name": "python"
    }
  },
  "cells": [
    {
      "cell_type": "markdown",
      "metadata": {
        "id": "view-in-github",
        "colab_type": "text"
      },
      "source": [
        "<a href=\"https://colab.research.google.com/github/thiagodruvis/loja_nascimento/blob/main/loja_nascimento.ipynb\" target=\"_parent\"><img src=\"https://colab.research.google.com/assets/colab-badge.svg\" alt=\"Open In Colab\"/></a>"
      ]
    },
    {
      "cell_type": "code",
      "execution_count": 2,
      "metadata": {
        "id": "gNmKhRZ0q9hV"
      },
      "outputs": [],
      "source": [
        "# Declare dois arrays, cada um com um mínimo de cinco elementos,\n",
        "# e imprima eles no terminal usando o comando print().\n",
        "\n",
        "# O primeiro array deve conter os produtos de uma loja da sua escolha\n",
        "# (loja de comida, materiais de construção, música, etc).\n",
        "\n",
        "# O segundo array deve conter os anos de nascimento de familiares\n",
        "# e amigos seus.\n",
        "\n",
        "# Lembre-se de usar nomes descritivos para nomear cada variável,\n",
        "# e de usar o tipo de dado apropriado para cada\n",
        "# lista (strings, booleanos, números inteiros, floats).\n"
      ]
    },
    {
      "cell_type": "code",
      "source": [
        "loja_produtos = ['Arroz', 'Feijão', 'Macarrão', 'Batata', 'Açucar']\n",
        "print(loja_produtos)\n",
        "\n",
        "\n"
      ],
      "metadata": {
        "colab": {
          "base_uri": "https://localhost:8080/"
        },
        "id": "PdMbdNNhsvYN",
        "outputId": "1523ebd2-2e6d-44bc-97d7-da3a9a3a705c"
      },
      "execution_count": 3,
      "outputs": [
        {
          "output_type": "stream",
          "name": "stdout",
          "text": [
            "['Arroz', 'Feijão', 'Macarrão', 'Batata', 'Açucar']\n"
          ]
        }
      ]
    },
    {
      "cell_type": "code",
      "source": [],
      "metadata": {
        "id": "wWJCDAJVsvkm"
      },
      "execution_count": null,
      "outputs": []
    },
    {
      "cell_type": "code",
      "source": [
        "nascimento = ['1983', '1981', '1955', '1958', '2017']\n",
        "print(nascimento)"
      ],
      "metadata": {
        "colab": {
          "base_uri": "https://localhost:8080/"
        },
        "id": "Ug3WtBdWsvtc",
        "outputId": "b1de0ce4-25a2-40e4-8327-3620ada20992"
      },
      "execution_count": 6,
      "outputs": [
        {
          "output_type": "stream",
          "name": "stdout",
          "text": [
            "['1983', '1981', '1955', '1958', '2017']\n"
          ]
        }
      ]
    },
    {
      "cell_type": "code",
      "source": [],
      "metadata": {
        "id": "_qC6ZqQgsv0s"
      },
      "execution_count": null,
      "outputs": []
    }
  ]
}